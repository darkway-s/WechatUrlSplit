{
 "cells": [
  {
   "cell_type": "code",
   "execution_count": null,
   "metadata": {},
   "outputs": [],
   "source": [
    "from Url2Html import Url2Html\n",
    "from StyleSlot import StyleSlot\n",
    "\n",
    "uh = Url2Html()"
   ]
  },
  {
   "cell_type": "code",
   "execution_count": null,
   "metadata": {},
   "outputs": [
    {
     "ename": "",
     "evalue": "",
     "output_type": "error",
     "traceback": [
      "\u001b[1;31mRunning cells with 'c:\\Users\\AnyHelper\\AppData\\Local\\Microsoft\\WindowsApps\\python3.10.exe' requires the ipykernel package.\n",
      "\u001b[1;31mRun the following command to install 'ipykernel' into the Python environment. \n",
      "\u001b[1;31mCommand: 'c:/Users/AnyHelper/AppData/Local/Microsoft/WindowsApps/python3.10.exe -m pip install ipykernel -U --user --force-reinstall'"
     ]
    }
   ],
   "source": [
    "url = \"https://mp.weixin.qq.com/s/5z99-ykZ3qQgi1rK2AaGEg\" \n",
    "inputfile = 'test.html'\n",
    "outputfile = 'output.docx'\n",
    "\n",
    "s = uh.operate(url, mode=1)\n",
    "# 保存到文件\n",
    "with open(inputfile, 'w', encoding='utf-8') as f:\n",
    "    f.write(s)\n",
    "\n",
    "print('success!')\n",
    "st = StyleSlot(s, outputfile)\n",
    "print(st)"
   ]
  },
  {
   "cell_type": "code",
   "execution_count": null,
   "metadata": {},
   "outputs": [],
   "source": [
    "\n"
   ]
  }
 ],
 "metadata": {
  "kernelspec": {
   "display_name": "Python 3",
   "language": "python",
   "name": "python3"
  },
  "language_info": {
   "name": "python",
   "version": "3.10.11"
  },
  "orig_nbformat": 4
 },
 "nbformat": 4,
 "nbformat_minor": 2
}
